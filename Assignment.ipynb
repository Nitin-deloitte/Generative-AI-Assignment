{
 "cells": [
  {
   "cell_type": "markdown",
   "id": "b46a88f1",
   "metadata": {},
   "source": [
    "# Summarization and Chat with Pdf Using Langchain\n",
    "\n",
    "### Objective:\n",
    "The aim of this assignment is to develop a Generative AI application using Large Language\n",
    "Models (LLM) that can take multiple page document of any formats as inputs, learn and\n",
    "summarize their content, and accurately answer user questions related to the documents.\n",
    "The application should be conversational and maintain proper session management. This\n",
    "use case is ideal for individuals and businesses seeking to streamline their document\n",
    "management process, improve productivity, and save time and resources."
   ]
  },
  {
   "cell_type": "markdown",
   "id": "252effe5",
   "metadata": {},
   "source": [
    "## Add OpenApi Key "
   ]
  },
  {
   "cell_type": "code",
   "execution_count": 2,
   "id": "46a5e0d1",
   "metadata": {},
   "outputs": [],
   "source": [
    "import os\n",
    "from dotenv import load_dotenv\n",
    "\n",
    "# Load environment variables from .env\n",
    "load_dotenv()\n",
    "\n",
    "api_key = os.getenv(\"API_KEY\")\n",
    "os.environ['OPENAI_API_KEY'] = api_key"
   ]
  },
  {
   "cell_type": "code",
   "execution_count": 3,
   "id": "51a506d5",
   "metadata": {},
   "outputs": [
    {
     "data": {
      "text/plain": [
       "'/home/nitin2/Documents/GenerativeAIAssignment'"
      ]
     },
     "execution_count": 3,
     "metadata": {},
     "output_type": "execute_result"
    }
   ],
   "source": [
    "os.getcwd()"
   ]
  },
  {
   "cell_type": "code",
   "execution_count": 2,
   "id": "8786980a",
   "metadata": {},
   "outputs": [
    {
     "ename": "ValidationError",
     "evalue": "1 validation error for OpenAI\n__root__\n  Did not find openai_api_key, please add an environment variable `OPENAI_API_KEY` which contains it, or pass  `openai_api_key` as a named parameter. (type=value_error)",
     "output_type": "error",
     "traceback": [
      "\u001b[0;31m---------------------------------------------------------------------------\u001b[0m",
      "\u001b[0;31mValidationError\u001b[0m                           Traceback (most recent call last)",
      "Input \u001b[0;32mIn [2]\u001b[0m, in \u001b[0;36m<cell line: 7>\u001b[0;34m()\u001b[0m\n\u001b[1;32m      5\u001b[0m \u001b[38;5;28;01mimport\u001b[39;00m \u001b[38;5;21;01mhashlib\u001b[39;00m\n\u001b[1;32m      6\u001b[0m \u001b[38;5;28;01mimport\u001b[39;00m \u001b[38;5;21;01mtextwrap\u001b[39;00m\n\u001b[0;32m----> 7\u001b[0m llm \u001b[38;5;241m=\u001b[39m \u001b[43mOpenAI\u001b[49m\u001b[43m(\u001b[49m\u001b[43mtemperature\u001b[49m\u001b[38;5;241;43m=\u001b[39;49m\u001b[38;5;241;43m0\u001b[39;49m\u001b[43m)\u001b[49m\n",
      "File \u001b[0;32m~/anaconda3/lib/python3.9/site-packages/pydantic/main.py:341\u001b[0m, in \u001b[0;36mpydantic.main.BaseModel.__init__\u001b[0;34m()\u001b[0m\n",
      "\u001b[0;31mValidationError\u001b[0m: 1 validation error for OpenAI\n__root__\n  Did not find openai_api_key, please add an environment variable `OPENAI_API_KEY` which contains it, or pass  `openai_api_key` as a named parameter. (type=value_error)"
     ]
    }
   ],
   "source": [
    "from langchain import OpenAI, PromptTemplate\n",
    "from langchain.chains.summarize import load_summarize_chain\n",
    "from langchain.document_loaders import PyPDFLoader\n",
    "import tiktoken\n",
    "import hashlib\n",
    "import textwrap\n",
    "llm = OpenAI(temperature=0)"
   ]
  },
  {
   "cell_type": "code",
   "execution_count": 5,
   "id": "125d6f26",
   "metadata": {},
   "outputs": [],
   "source": [
    "FILE_PATH = '/home/nitin2/Downloads/YouTubeMarketingGuide.pdf'"
   ]
  },
  {
   "cell_type": "code",
   "execution_count": 6,
   "id": "50d00acd",
   "metadata": {},
   "outputs": [],
   "source": [
    "from langchain.document_loaders import PyPDFLoader\n",
    "from IPython.display import display, Javascript\n",
    "def load_document(FILE_PATH): \n",
    "    print(\"Loading Pdf....\")\n",
    "    loader = PyPDFLoader(FILE_PATH)\n",
    "    #print(loader.metadata)\n",
    "    docs=loader.load_and_split()\n",
    "    #generate_newhash(docs)\n",
    "    #print(new_hash)\n",
    "    #new_doc = clean_doc(docs)\n",
    "    print(\"Document is ready...\")\n",
    "    return docs\n",
    "    \n",
    "#cleaning text\n",
    "def clean_doc(docs):\n",
    "    # Convert the list of documents into a string\n",
    "    doc_string = ' '.join([doc.page_content for doc in docs])\n",
    "    # Replace '\\n' characters with a space\n",
    "    doc_string = doc_string.replace('\\n', '')\n",
    "    print(doc_string) \n",
    "    return doc_string\n",
    "\n",
    "def generate_newhash(docs):\n",
    "    pdf_name = FILE_PATH.split('/')[-1]\n",
    "    new_hash = hashlib.md5(''.join([t.page_content for t in docs]).encode()).hexdigest()\n",
    "    print(\"new hash\",new_hash)\n",
    "    current_dir = os.getcwd()\n",
    "    new_dir = current_dir + '/'+pdf_name+'/hash.txt'\n",
    "    print(new_dir)\n",
    "    # Path \n",
    "    path = os.path.join(current_dir, pdf_name)\n",
    "    os.mkdir(path) \n",
    "    with open(new_dir, \"w+\") as file:\n",
    "        file.write(new_hash)\n",
    "    \n",
    "    \n",
    "    "
   ]
  },
  {
   "cell_type": "markdown",
   "id": "921ade25",
   "metadata": {},
   "source": [
    "## Loading Document"
   ]
  },
  {
   "cell_type": "code",
   "execution_count": null,
   "id": "e284d4ef",
   "metadata": {},
   "outputs": [
    {
     "name": "stdout",
     "output_type": "stream",
     "text": [
      "Enter File Path../home/nitin2/Downloads/YouTubeMarketingGuide.pdf\n",
      "Loading Pdf....\n",
      "Document is ready...\n",
      "[Document(page_content='E v e r y o n e\\nw a t c h e s\\nY o u T u b e .\\nO v e r\\n7 5 %\\no f\\nA m e r i c a n s\\na g e\\n1 5\\na n d\\nu p\\na r e\\no n\\nY o u T u b e ,\\np a r t\\no f\\no v e r\\n2\\nb i l l i o n\\nm o n t h l y\\na c t i v e\\nu s e r s ,\\nm a k i n g\\ni t\\nt h e\\nm o s t\\np o p u l a r\\nw e b s i t e\\ni n\\nt h e\\nw o r l d\\na f t e r\\nG o o g l e .\\nT h e\\np o t e n t i a l\\no f\\na\\nh u g e\\na u d i e n c e\\ni s\\na\\ng r e a t\\nr e a s o n\\nt o\\nm a r k e t\\ny o u r\\nb u s i n e s s\\no n\\nY o u T u b e .\\nB u t\\ns h o u t i n g\\nf r o m\\nt h e\\nr o o f t o p s\\na b o u t\\ny o u r\\np r o d u c t s\\nw i t h o u t\\na\\np l a n\\nw o n ’ t\\ng e t\\ny o u\\na n y w h e r e .\\nY o u\\nn e e d\\na\\ns t r a t e g y\\nt o\\ns u c c e e d\\na n d\\nt h a t ’ s\\ne x a c t l y\\nw h a t\\ny o u ’ l l\\nﬁ n d\\nh e r e :\\nt h e\\n1 0\\ns t e p s\\nt o\\nc r u s h\\nY o u T u b e\\nm a r k e t i n g\\ni n\\n2 0 2 3 .\\nC r e a t e\\na\\nY o u T u b e\\nm a r k e t i n g\\ns t r a t e g y\\ni n\\n1 0\\ns t e p s\\nS t e p\\n1 :\\nC r e a t e\\na\\nY o u T u b e\\nc h a n n e l\\nf o r\\ny o u r\\nb u s i n e s s\\nS t e p\\n2 :\\nL e a r n\\na b o u t\\ny o u r\\na u d i e n c e\\nS t e p\\n3 :\\nR e s e a r c h\\ny o u r\\nc o m p e t i t i o n\\nS t e p\\n4 :\\nL e a r n\\nf r o m\\ny o u r\\nf a v o r i t e\\nc h a n n e l s\\nS t e p\\n5 :\\nO p t i m i z e\\ny o u r\\nv i d e o s\\nt o\\ng e t\\nv i e w s\\nS t e p\\n6 :\\nU p l o a d\\na n d\\ns c h e d u l e\\ny o u r\\nv i d e o s\\nS t e p\\n7 :\\nO p t i m i z e\\ny o u r\\nc h a n n e l\\nt o\\na t t r a c t\\nf o l l o w e r s\\nS t e p\\n8 :\\nT r y\\nY o u T u b e\\na d v e r t i s i n g\\nS t e p\\n9 :\\nT r y\\ni n f l u e n c e r\\nm a r k e t i n g\\nS t e p\\n1 0 :\\nA n a l y z e\\na n d\\na d a p t', metadata={'source': '/home/nitin2/Downloads/YouTubeMarketingGuide.pdf', 'page': 0}), Document(page_content='W h a t\\ni s\\nY o u T u b e\\nm a r k e t i n g ?\\nY o u T u b e\\nm a r k e t i n g\\ni s\\nt h e\\np r a c t i c e\\no f\\np r o m o t i n g\\na\\nb r a n d ,\\np r o d u c t ,\\no r\\ns e r v i c e\\no n\\nY o u T u b e .\\nI t\\nc a n\\ni n v o l v e\\na\\nm i x\\no f\\nt a c t i c s ,\\ni n c l u d i n g\\n( b u t\\nn o t\\nl i m i t e d\\nt o ) :\\n●\\nC r e a t i n g\\no r g a n i c\\np r o m o t i o n a l\\nv i d e o s\\n●\\nW o r k i n g\\nw i t h\\ni n ﬂ u e n c e r s\\n●\\nA d v e r t i s i n g\\no n\\nt h e\\np l a t f o r m\\nT o\\nm a r k e t\\ny o u r\\nb u s i n e s s\\no n\\nY o u T u b e\\n—\\nw h e t h e r\\ny o u ’ r e\\na n\\ne n t r e p r e n e u r\\no r\\na n\\ne n t e r p r i s e\\nc o r p o r a t i o n\\n—\\ny o u\\nn e e d\\nt o\\np r o d u c e\\nw h a t\\ny o u r\\nt a r g e t\\nc u s t o m e r s\\nw a n t .\\nS o u n d s\\ns i m p l e ,\\nr i g h t ?\\nI t\\ni s ,\\na s\\nl o n g\\na s\\ny o u\\nk n o w\\nw h a t\\ny o u r\\nc u s t o m e r s\\nr e a l l y\\nw a n t\\na n d\\ni t ’ s\\nn o t\\nj u s t\\nw h a t\\ny o u\\nt h i n k\\nt h e y\\nw a n t ,\\nw h i c h\\ni s\\na\\nt r a p\\nf a r\\nt o o\\nm a n y\\nb u s i n e s s e s\\nf a l l\\ni n t o .\\nP l u s ,\\ny o u\\nn e e d\\nt o\\nm a k e\\ns u r e\\nt h e\\nr i g h t\\np e o p l e\\nﬁ n d\\ny o u r\\nv i d e o s .\\nY o u T u b e\\ni s\\na\\ns e a r c h\\ne n g i n e\\ns o\\ny o u ’ l l\\nn e e d\\nt o\\no p t i m i z e\\ny o u r\\nc o n t e n t\\nf o r\\nt h e\\nY o u T u b e\\na l g o r i t h m\\n,\\nj u s t\\nl i k e\\ny o u\\nd o\\nf o r\\nG o o g l e\\nS E O .\\nW i t h o u t\\nf u r t h e r\\na d o ,\\nh e r e\\ni s\\ny o u r\\nc o m p l e t e ,\\ns t e p - b y - s t e p\\nc h e c k l i s t\\nf o r\\nh o w\\nt o\\ns u c c e s s f u l l y\\np r o m o t e\\ny o u r\\nb u s i n e s s\\no n\\nY o u T u b e .\\nY o u r\\n1 0 - s t e p\\nY o u T u b e\\nm a r k e t i n g\\ns t r a t e g y\\nS t e p\\n1 :\\nC r e a t e\\na\\nY o u T u b e\\nc h a n n e l\\nf o r\\ny o u r\\nb u s i n e s s\\nF i r s t\\nt h i n g s\\nﬁ r s t ,\\ny o u\\nh a v e\\nt o\\ns e t\\nu p\\na\\nY o u T u b e\\nc h a n n e l .\\nS i n c e\\nY o u T u b e\\ni s\\np a r t\\no f\\nG o o g l e ,\\ny o u ’ l l\\nn e e d\\nt o\\nc r e a t e\\na\\nG o o g l e\\na c c o u n t\\nﬁ r s t\\nt o\\ns i g n\\nu p\\nf o r\\na\\nY o u T u b e\\nc h a n n e l .\\nY o u\\nc a n\\nu s e\\na n\\ne x i s t i n g\\na c c o u n t\\no r\\nc r e a t e\\no n e\\ne s p e c i a l l y\\nf o r\\nm a n a g i n g\\ny o u r\\nb u s i n e s s .', metadata={'source': '/home/nitin2/Downloads/YouTubeMarketingGuide.pdf', 'page': 1}), Document(page_content='H e r e ’ s\\nh o w\\nt o\\ng e t\\nu p\\na n d\\nr u n n i n g :\\n1 .\\nC r e a t e\\na\\nG o o g l e\\na c c o u n t .\\n2 .\\nU s e\\nt h a t\\nt o\\nc r e a t e\\ny o u r\\nY o u T u b e\\na c c o u n t\\n.\\n3 .\\nL o g\\ni n\\nt o\\nY o u T u b e\\na n d\\nc r e a t e\\na\\nB r a n d\\nA c c o u n t\\na n d\\nc h a n n e l .\\nM a n a g i n g\\ny o u r\\nY o u T u b e\\nc h a n n e l\\nw i t h\\na\\nB r a n d\\nA c c o u n t\\ni s\\na\\nb e s t\\np r a c t i c e ,\\na s\\no p p o s e d\\nt o\\nr u n n i n g\\ni t\\nw i t h\\ny o u r\\np e r s o n a l\\nG o o g l e\\na c c o u n t .\\nF o r\\no n e\\nt h i n g ,\\na\\nB r a n d\\nA c c o u n t\\nl e t s\\nm u l t i p l e\\np e o p l e\\ni n\\ny o u r\\nc o m p a n y\\nm a n a g e\\na n d\\nu p d a t e\\ny o u r\\nY o u T u b e\\nc h a n n e l .\\nF o r\\na n o t h e r ,\\nn o\\no n e\\na t\\nw o r k\\nn e e d s\\nt o\\nk n o w\\ny o u r\\np e r s o n a l\\ne m a i l\\ni s\\ns k 8 r b o i 2 0 0 0 @ g m a i l . c o m\\n.\\n( Y o u r\\ns e c r e t ’ s\\ns a f e\\nw i t h\\nm e . )\\nM o r e\\ni m p o r t a n t l y ,\\ni t\\na l s o\\na l l o w s\\ny o u\\nt o\\ne x p a n d\\ny o u r\\nb u s i n e s s\\nl a t e r\\nw i t h\\na d d i t i o n a l\\nY o u T u b e\\nc h a n n e l s .\\nO K ,\\ny o u ’ v e\\ng o t\\nt h e\\na c c o u n t .\\nN e x t\\nu p :\\np r e t t y\\ni t\\nu p .\\nA d d\\ny o u r :\\n●\\n“ A b o u t ”\\ni n f o r m a t i o n .\\n●\\nC h a n n e l\\na r t\\n( t h e\\n“ h e a d e r ”\\ni m a g e\\na n d\\np r o ﬁ l e\\np i c t u r e ) .\\n●\\nS o c i a l\\nm e d i a\\na n d\\nw e b s i t e\\nl i n k s .\\nC h e c k\\no u t\\no u r\\ns t e p - b y - s t e p\\nw a l k t h r o u g h\\nt o\\nc r e a t e\\na\\nY o u T u b e\\na c c o u n t\\nf o r\\nm o r e\\nd e t a i l s .\\nN o w\\nw e ’ r e\\nr e a d y\\nt o\\nt a c k l e\\ny o u r\\nY o u T u b e\\nv i d e o\\nm a r k e t i n g\\ns t r a t e g y .\\nS t e p\\n2 :\\nL e a r n\\na b o u t\\ny o u r\\na u d i e n c e\\nA l r i g h t ,\\nn o w\\nf o r\\nt h e\\nt o u g h\\ns t u f f .\\nW h a t\\nd o e s\\ny o u r\\na u d i e n c e\\nr e a l l y\\nw a n t ?', metadata={'source': '/home/nitin2/Downloads/YouTubeMarketingGuide.pdf', 'page': 2}), Document(page_content='T o\\nﬁ g u r e\\nt h i s\\no u t ,\\ny o u\\nn e e d\\nt o\\na n s w e r\\nt w o\\nq u e s t i o n s :\\n1 .\\nW h o\\na r e\\ny o u\\nm a k i n g\\nv i d e o s\\nf o r ?\\n2 .\\nW h a t\\na r e\\nt h e y\\na l r e a d y\\nw a t c h i n g\\no n\\nY o u T u b e ?\\nT o\\ns t a r t ,\\ni t ’ s\\nh e l p f u l\\nt o\\nk n o w\\ns o m e\\nb a s i c\\nY o u T u b e\\nd e m o g r a p h i c s\\n.\\nY o u T u b e\\nh a s\\no v e r\\n2\\nb i l l i o n\\nu s e r s\\na n d\\n7 2 %\\no f\\nA m e r i c a n\\ni n t e r n e t\\nu s e r s\\nr e g u l a r l y\\nb r o w s e\\nY o u T u b e .\\n7 7 %\\no f\\np e o p l e\\na g e d\\n1 5 - 3 5\\nu s e\\nY o u T u b e\\na n d\\nu n l i k e\\no t h e r\\ns o c i a l\\np l a t f o r m s ,\\nt h e r e\\ni s n ’ t\\na\\nl a r g e\\nd r o p o f f\\ni n\\nt h a t\\nr a t e\\nf o r\\no l d e r\\nu s e r s .\\nY o u T u b e\\ni s n ’ t\\no n l y\\np o p u l a r\\ni n\\nt h e\\nU S A .\\nT h e r e\\na r e\\no v e r\\n1 0 0\\nl o c a l i z e d\\nv e r s i o n s\\no f\\nY o u T u b e\\nf o r\\nc o u n t r i e s\\na r o u n d\\nt h e\\nw o r l d .\\nS p e n d\\ns o m e\\nt i m e\\nr e s e a r c h i n g\\nw h o\\ny o u r\\nt a r g e t\\na u d i e n c e\\ni s\\na l r e a d y\\nf o l l o w i n g\\no n\\nY o u T u b e .\\nW h a t\\nt y p e s\\no f\\nv i d e o s\\nd o\\nt h e y\\nw a t c h ?\\n( I f\\ny o u\\nd o n ’ t\\nh a v e\\ny o u r\\nt a r g e t\\na u d i e n c e\\nﬁ g u r e d\\no u t\\ny e t ,\\nw e\\nh a v e\\na\\nf r e e\\nb u y e r\\np e r s o n a\\nt e m p l a t e\\nt o\\nh e l p\\no u t . )\\nT h e r e\\na r e\\na\\nc o u p l e\\nw a y s\\nt o\\nd o\\nt h i s :\\nI f\\ny o u\\na l r e a d y\\nh a v e\\ny o u r\\nY o u T u b e\\nc h a n n e l\\ns e t\\nu p ,\\nc h e c k\\no u t\\ny o u r\\nA n a l y t i c s\\nt a b\\n.\\nT h i s\\nw i l l\\ng i v e\\ny o u\\nv a l u a b l e\\ni n s i g h t s\\ni n t o\\ny o u r\\na u d i e n c e ’ s\\nd e m o g r a p h i c s\\na n d\\ni n t e r e s t s .\\nY o u\\nc a n\\ns e e\\nh o w\\nm a n y\\np e o p l e\\na r e\\nﬁ n d i n g\\ny o u r\\nv i d e o s\\nt h r o u g h\\ns e a r c h ,\\ns e e i n g\\ni t\\ni n\\nt h e i r\\ns u g g e s t e d\\nf e e d\\no r\\nf r o m\\no t h e r\\ns o u r c e s .\\nU s e\\ns o c i a l\\nl i s t e n i n g\\nt o\\nﬁ n d\\ny o u r\\na u d i e n c e .\\nW h a t ’ s\\nt h e\\nb e s t\\nw a y\\nt o\\nf o r m\\nl a s t i n g\\nc o n n e c t i o n s\\nw i t h\\no t h e r\\np e o p l e ?\\nB y\\ns p y i n g\\no n\\nt h e m\\nf r o m\\na\\nd i s t a n c e ,\\no f\\nc o u r s e .', metadata={'source': '/home/nitin2/Downloads/YouTubeMarketingGuide.pdf', 'page': 3}), Document(page_content='N o ,\\ns e r i o u s l y ,\\ns o c i a l\\nl i s t e n i n g\\na l l o w s\\ny o u\\nt o\\nc o n t i n u o u s l y\\ns e a r c h\\ns o c i a l\\np l a t f o r m s ,\\ni n c l u d i n g\\nY o u T u b e ,\\nf o r\\nm e n t i o n s\\no f\\ny o u r\\nb r a n d\\no r\\ns p e c i ﬁ c\\nk e y w o r d s .\\nB y\\ns e e i n g\\nw h a t\\np e o p l e\\na r e\\ns a y i n g\\na b o u t\\ny o u\\no r\\ny o u r\\ni n d u s t r y ,\\ny o u\\nc a n\\nﬁ n d\\no u t\\nw h a t\\np e o p l e\\nw a n t\\nt o\\nk n o w\\na n d\\nu s e\\nt h a t\\nf o r\\nv i d e o\\nc o n t e n t\\ni d e a s .\\nS t e p\\n3 :\\nR e s e a r c h\\ny o u r\\nc o m p e t i t i o n\\nT h e\\nf a s t e s t\\nw a y\\nt o\\ng r o w\\no n\\nY o u T u b e\\ni s\\nt o\\nﬁ g u r e\\no u t\\nw h a t ’ s\\nw o r k i n g\\nf o r\\ny o u r\\nc o m p e t i t i o n\\na n d\\nt h e n\\nd o\\nt h a t …\\nb u t\\nb e t t e r .\\nY o u\\nc a n\\ns t a r t\\nb y\\nl o o k i n g\\nu p\\nc h a n n e l s\\nf r o m\\nt h e\\nc o m p e t i t o r s\\ny o u\\na l r e a d y\\nk n o w .\\nP e r f o r m\\na\\nc o m p e t i t o r\\na n a l y s i s\\nf o r\\nt h e\\nf o l l o w i n g :\\n●\\nS u b s c r i b e r\\nc o u n t\\n●\\nA v e r a g e\\nv i e w s\\np e r\\nv i d e o\\n●\\nF r e q u e n c y\\no f\\np o s t i n g\\n●\\nO v e r a l l\\nv i d e o\\nq u a l i t y\\n●\\nW h a t\\np e o p l e\\na r e\\ns a y i n g\\ni n\\nt h e\\nc o m m e n t s\\n●\\nT h e\\nm a i n\\nt o p i c s\\nt h e y\\np o s t\\na b o u t\\nA n d\\nt h e n\\na s k\\ny o u r s e l f :\\n●\\nW h a t\\na r e\\nt h e i r\\nm o s t\\np o p u l a r\\nv i d e o s ?\\n●\\nH o w\\na r e\\nt h e y\\np r e s e n t i n g\\nt h e m s e l v e s ?\\n●\\nW h a t\\ni s\\nt h e i r\\nb r a n d\\nv o i c e ?\\n●\\nH o w\\nc a n\\nI\\nd i f f e r e n t i a t e\\nm y\\nc o m p a n y\\nf r o m\\nt h e m ?\\n●\\nW h a t\\ni d e a s\\nc a n\\nI\\ng e t\\nf o r\\nn e w\\nc o n t e n t\\nf r o m\\nt h i s\\nc h a n n e l ?\\nP u t\\na l l\\ny o u r\\nn o t e s\\ni n t o\\na\\nS W O T\\na n a l y s i s .\\nS W O T\\ns t a n d s\\nf o r\\nS t r e n g t h s ,\\nW e a k n e s s e s ,\\nO p p o r t u n i t i e s\\na n d\\nT h r e a t s\\n( a n d\\na l w a y s\\nm a k e s\\nm e\\nf e e l\\nl i k e\\na\\nS e c r e t\\nS e r v i c e\\na g e n t\\nw h e n\\nI\\nc a s u a l l y\\nm e n t i o n\\nI ’ m\\ng o n n a\\ng o\\nd o\\na\\nS W O T\\nt o\\nm y\\nc o w o r k e r s\\nb y\\nt h e\\nc o f f e e\\nm a c h i n e ) .', metadata={'source': '/home/nitin2/Downloads/YouTubeMarketingGuide.pdf', 'page': 4}), Document(page_content='W e ’ v e\\ng o t\\na\\nf r e e\\nS W O T\\nt e m p l a t e\\nt o\\ng e t\\ny o u\\ng o i n ’\\nr i g h t\\na w a y .\\nA t\\nﬁ r s t ,\\ny o u r\\ng o a l\\ni s\\np r o b a b l y\\nt o\\ng r o w\\ny o u r\\ns u b s c r i b e r s\\na n d\\na u d i e n c e\\na s\\nf a s t\\na s\\np o s s i b l e .\\nS o\\nw r i t e\\nd o w n\\ny o u r\\nc o m p e t i t o r s ’\\ns u b s c r i b e r\\nc o u n t s\\na n d\\nv i e w s .\\nT r a c k\\ny o u r\\no w n\\np r o g r e s s\\na g a i n s t\\nt h e i r s\\nm o n t h l y .\\nP l u s ,\\ni f\\ny o u ’ r e\\nc o m p e t i t i v e\\nl i k e\\nm e ,\\nt h e\\nd e s i r e\\nt o\\nc r u s h\\nt h e i r\\nn u m b e r s\\nw i l l\\nm o t i v a t e\\ny o u\\nt o\\nk e e p\\ng o i n g\\nw i t h\\ny o u r\\nc h a n n e l ,\\ne v e n\\ni f\\ng r o w t h\\ni s\\ns l o w\\na t\\nﬁ r s t .\\nS t e p\\n4 :\\nL e a r n\\nf r o m\\ny o u r\\nf a v o r i t e\\nc h a n n e l s\\nB e s i d e s\\nl e a r n i n g\\nf r o m\\ny o u r\\nc o m p e t i t o r s ,\\ny o u\\ns h o u l d\\na l s o\\nb e\\nl e a r n i n g\\nf r o m\\ny o u r\\nf a v o r i t e\\nY o u T u b e\\nc h a n n e l s .\\nT h e s e\\nd o n ’ t\\nh a v e\\nt o\\nb e\\nc h a n n e l s\\nr e l a t e d\\nt o\\ny o u r\\ni n d u s t r y .\\nB y\\nc o n s u m i n g\\nY o u T u b e\\nc o n t e n t ,\\ny o u\\nw i l l\\nl e a r n\\na\\nl o t\\na b o u t\\nw h a t ’ s\\nw o r k i n g ,\\ne s p e c i a l l y\\ns i n c e\\ni t ’ s\\na l w a y s\\nc h a n g i n g .\\nF o r\\ne x a m p l e ,\\nd i d\\ny o u\\nk n o w\\ni t ’ s\\nm o r e\\ni m p o r t a n t\\nt o\\nh a v e\\ng o o d\\na u d i o\\nq u a l i t y\\nt h a n\\nv i d e o\\nq u a l i t y ?\\nI t ’ s\\nt r u e :\\nB a d\\na u d i o\\nc a n\\nt u r n\\np e o p l e\\no f f\\nf r o m\\nw a t c h i n g\\ny o u r\\nv i d e o\\no r\\ns u b s c r i b i n g .\\nA\\nl o t\\ng o e s\\ni n t o\\nm a k i n g\\nY o u T u b e\\nv i d e o s\\np e o p l e\\nw a n t\\nt o\\nw a t c h .\\nW h e n\\ny o u\\nw a t c h\\no t h e r s ,\\np a y\\na t t e n t i o n\\nt o\\nt h i n g s\\nl i k e :\\n●\\nV i d e o\\nt h u m b n a i l s\\n●\\nC h a n n e l\\na r t\\n●\\nH o w\\no t h e r\\nc r e a t o r s\\na r e\\nl i n k i n g\\nt o\\np o s t s\\no r\\np r o d u c t s\\n●\\nH o w\\no t h e r\\nc r e a t o r s\\ne d i t\\nt h e i r\\nv i d e o s ,\\ni n c l u d i n g\\nt e x t\\np o p u p s\\na n d\\no t h e r\\ns p e c i a l\\ne f f e c t s\\nT h e r e\\na r e\\ne v e n\\ne n t i r e\\nc h a n n e l s\\nd e v o t e d\\nt o\\nv i d e o\\ne d i t i n g\\na n d\\nY o u T u b e\\ng r o w t h .\\nY o u\\nc a n\\nt r a c k\\nt h e m ,\\no r\\nk e y w o r d s\\nr e l a t i n g\\nt o\\nY o u T u b e\\ng r o w t h ,\\ni n\\ny o u r\\nH o o t s u i t e\\nd a s h b o a r d .', metadata={'source': '/home/nitin2/Downloads/YouTubeMarketingGuide.pdf', 'page': 5}), Document(page_content='S t e p\\n5 :\\nO p t i m i z e\\ny o u r\\nv i d e o s\\nt o\\ng e t\\nv i e w s\\nO K ,\\nl e t ’ s\\ng e t\\ns p e c i ﬁ c\\na b o u t\\nm a k i n g\\ny o u\\nf a m o u s .\\nY o u T u b e ’ s\\n2\\nb i l l i o n\\nu s e r s\\nw a t c h\\na b o u t\\n1\\nb i l l i o n\\nh o u r s\\no f\\nv i d e o\\nc o n t e n t\\ne v e r y\\ns i n g l e\\nd a y .\\nS o\\nh o w\\nd o\\ny o u\\nr i s e\\na b o v e\\nt h e\\nn o i s e\\na n d\\ng e t\\nY o u T u b e ’ s\\na l g o r i t h m\\nt o\\ns h o w\\ny o u r\\nv i d e o s ?\\nI f\\ny o u ’ r e\\nf a m i l i a r\\nw i t h\\nS E O\\na n d\\nG o o g l e ’ s\\na l g o r i t h m ,\\nY o u T u b e\\nw o r k s\\ni n\\na\\ns i m i l a r\\nw a y\\nw i t h\\n1\\nk e y\\nd i f f e r e n c e :\\nP e r s o n a l i z a t i o n .\\nW h e n\\ny o u\\ns e a r c h\\na\\np h r a s e\\no n\\nG o o g l e ,\\ny o u ’ r e\\ns e r v e d\\nr o u g h l y\\nt h e\\ns a m e\\nw e b s i t e\\nr e s u l t s\\na s\\no t h e r\\np e o p l e .\\nI\\ns a y\\n“ r o u g h l y , ”\\nb e c a u s e\\ns o m e\\nr e s u l t s\\nc h a n g e\\nb a s e d\\no n\\nl o c a t i o n .\\nB u t\\ni f\\ny o u\\na n d\\na\\nb u d d y\\ns a t\\nn e x t\\nt o\\ne a c h\\no t h e r\\ni n\\nt h e\\ns a m e\\nr o o m ,\\no n\\nt h e\\ns a m e\\nW i - F i\\na n d\\ns e a r c h e d\\nf o r\\nt h e\\ns a m e\\nk e y w o r d ,\\ny o u ’ d\\ns e e\\nt h e\\ns a m e\\nr e s u l t s .\\nN o t\\nt h e\\nc a s e\\no n\\nY o u T u b e .\\nW h e n\\nY o u T u b e\\ns h o w s\\ny o u\\ns e a r c h\\nr e s u l t s ,\\nt h e y\\nt a k e\\ni n t o\\na c c o u n t\\nt h e\\nk e y w o r d\\na n d\\ns i m i l a r\\nt h i n g s\\nG o o g l e\\nl o o k s\\nf o r :\\nH o w\\np o p u l a r\\na\\nv i d e o\\na l r e a d y\\ni s ,\\nk e y w o r d s\\ni n\\nt h e\\nt i t l e ,\\ne t c .\\nB u t\\nY o u T u b e\\na l s o\\nf a c t o r s\\ni n\\ny o u r\\nw a t c h\\nh i s t o r y\\na n d\\nt h e\\nt y p e s\\no f\\nv i d e o s\\ni t\\nk n o w s\\ny o u\\nl i k e\\nt o\\nw a t c h .\\nT h a t ’ s\\nw h y\\nn o\\nt w o\\nu s e r s ’\\nY o u T u b e\\nh o m e p a g e\\no r\\ns e a r c h\\nr e s u l t s\\nw i l l\\nb e\\n1 0 0 %\\na l i k e .\\nP e r s o n a l i z a t i o n\\np l a y s\\na\\nr o l e ,\\nb u t\\ni t ’ s\\ns t i l l\\ni m p o r t a n t\\nt o\\nd o\\na l l\\nt h o s e\\no t h e r\\nY o u T u b e\\nS E O\\nt h i n g s\\nt o\\ng e t\\ny o u r\\nv i d e o s\\nf o u n d\\ni n\\ns e a r c h .\\nH e r e\\na r e\\nt h e\\n6\\nw a y s\\ny o u\\nn e e d\\nt o\\no p t i m i z e\\ny o u r\\nv i d e o s\\nt o\\ng e t\\nm o r e\\nv i e w s\\n:', metadata={'source': '/home/nitin2/Downloads/YouTubeMarketingGuide.pdf', 'page': 6}), Document(page_content='D o\\nk e y w o r d\\nr e s e a r c h\\nB e f o r e\\ny o u\\nc a n\\no p t i m i z e\\ny o u r\\nv i d e o ,\\ny o u\\nn e e d\\nt o\\nk n o w\\nw h a t\\ny o u ’ r e\\no p t i m i z i n g\\nf o r .\\nK e y w o r d\\nr e s e a r c h\\ng i v e s\\ny o u\\nt h e\\np h r a s e s\\np e o p l e\\na r e\\nu s i n g\\nt o\\nﬁ n d\\nc o n t e n t\\ns o\\ny o u\\nc a n\\na d d\\ni t\\nt o\\ny o u r s ,\\nt o o .\\n( M o r e\\no n\\nt h i s\\ni n\\na\\ns e c . )\\nY o u\\nc a n\\nu s e\\nG o o g l e\\nK e y w o r d\\nP l a n n e r\\nf o r\\nk e y w o r d\\nr e s e a r c h\\n.\\nA d d i t i o n a l l y ,\\nt y p e\\ny o u r\\nt o p i c\\ni n t o\\nt h e\\nY o u T u b e\\ns e a r c h\\nb a r\\na n d\\ns e e\\nw h a t\\nc o m e s\\nu p .\\nT h e s e\\na r e\\na l l\\nt h i n g s\\nr e a l\\np e o p l e\\nh a v e\\ns e a r c h e d\\nf o r .\\nT h i s\\nc a n\\ng i v e\\ny o u\\ni d e a s\\nf o r\\nn e w\\nk e y w o r d s .\\nA d d\\ny o u r\\nk e y w o r d s\\nt o\\ny o u r\\nv i d e o\\nY o u\\ns h o u l d\\nh a v e\\no n e\\nm a i n\\nk e y w o r d\\na n d\\na\\nf e w\\na d d i t i o n a l\\no n e s\\nf o r\\ne a c h\\nv i d e o .\\nH e r e ’ s\\nw h e r e\\nt o\\na d d\\nt h e m :\\n●\\nT h e\\nv i d e o\\nt i t l e\\n( m a i n\\nk e y w o r d )\\n●\\nT h e\\nv i d e o\\nd e s c r i p t i o n\\n( m a i n\\nk e y w o r d\\n+\\n1 - 2\\nr e l a t e d\\nk e y w o r d s )\\n●\\nU s e\\nt h e\\nm a i n\\nk e y w o r d\\nw i t h i n\\nt h e\\nﬁ r s t\\n3\\ns e n t e n c e s\\n●\\nT h e\\nv i d e o ’ s\\nt a g s\\n●\\nA c c o r d i n g\\nt o\\nY o u T u b e ,\\nt h i s\\nh a s\\nm i n i m a l\\ni m p a c t ,\\nb u t\\nu s e\\ny o u r\\nk e y w o r d s\\na s\\nt a g s\\na n y w a y .\\nI t\\no n l y\\nt a k e s\\na\\ns e c o n d .\\nU s e\\nt i m e s t a m p s\\nY o u T u b e\\nt i m e s t a m p s\\na r e\\nl i k e\\nb r e a k i n g\\ny o u r\\nv i d e o\\ni n t o\\nc h a p t e r s .\\nI t\\na l l o w s\\nv i e w e r s\\nt o\\ns k i p\\na r o u n d\\nt o\\nt h e\\ns e c t i o n s\\nt h e y ’ r e\\nm o s t\\ni n t e r e s t e d\\ni n .\\nT h i s\\ni n c r e a s e s\\nt h e\\nc h a n c e\\nt h e y ’ l l\\nw a t c h\\nm o r e\\no f\\ny o u r\\nv i d e o .\\nT a k e\\na\\nl o o k\\na t\\nh o w\\nt h e\\nH o o t s u i t e\\nt e a m\\nu s e s\\nt i m e s t a m p s\\nt o\\nh e l p\\nt h e i r\\na u d i e n c e\\nn a v i g a t e\\nl o n g e r\\nv i d e o s .', metadata={'source': '/home/nitin2/Downloads/YouTubeMarketingGuide.pdf', 'page': 7}), Document(page_content='C r e a t e\\na\\nd e t a i l e d\\nv i d e o\\nd e s c r i p t i o n\\nE a c h\\nv i d e o ’ s\\nd e s c r i p t i o n\\ns h o u l d\\nh a v e\\na\\nu n i q u e\\ns e c t i o n\\no f\\na\\nf e w\\ns e n t e n c e s\\nd e s c r i b i n g\\nw h a t\\ni t ’ s\\na b o u t .\\nB u t ,\\ny o u\\nc a n\\nc r e a t e\\nd e f a u l t\\nd e s c r i p t i o n s\\nt o\\ns a v e\\nt i m e\\nf o r\\nt h e\\np a r t s\\ny o u\\nw a n t\\ni n\\ne v e r y\\nv i d e o .\\nH e r e ’ s\\nw h a t\\ny o u\\nw a n t\\nt o\\ni n c l u d e\\ni n\\ny o u r\\nd e s c r i p t i o n :\\n●\\nW e b s i t e\\nl i n k\\n●\\nL i n k s\\nt o\\ny o u r\\no t h e r\\ns o c i a l\\nm e d i a\\na c c o u n t s\\n●\\nL i n k s\\nt o\\ny o u r\\np r o d u c t s\\no r\\ns e r v i c e s\\nm e n t i o n e d\\ni n\\nt h e\\nv i d e o\\n●\\nA\\nc a l l\\nt o\\na c t i o n\\nC r e a t e\\na n\\ne n g a g i n g\\nv i d e o\\nt h u m b n a i l\\nC u s t o m\\nt h u m b n a i l s\\na r e\\ns o\\ni m p o r t a n t\\nf o r\\nv i e w s .\\nB e s i d e s\\ny o u r\\nt i t l e ,\\ni t ’ s\\nt h e\\no n l y\\no t h e r\\nt h i n g\\nu s e r s\\nh a v e\\nt o\\nd e c i d e\\ni f\\nt h e y\\nw a n t\\nt o\\nw a t c h\\ny o u r\\nv i d e o\\no r\\nn o t .\\nW h a t\\nc o u n t s\\na s\\na\\ng o o d\\nY o u T u b e\\nt h u m b n a i l\\nw i l l\\nv a r y\\nd e p e n d i n g\\no n\\ny o u r\\na u d i e n c e .\\nA s\\na\\nm i n i m u m ,\\nm a k e\\ns u r e\\ni t\\ni s n ’ t\\nj u s t\\na\\ns c r e e n s h o t\\nf r o m\\ny o u r\\nv i d e o .\\nU s e\\na\\np h o t o\\no r\\ny o u r\\nb r a n d\\ne l e m e n t s\\na n d\\na d d\\ns o m e\\nt e x t\\nt o\\nl u r e\\nv i e w e r s\\ni n\\n—\\nl i k e\\nH o o t s u i t e\\nd o e s\\no n\\nt h e\\nH o o t s u i t e\\nL a b s\\nc h a n n e l\\n:\\nC u r r e n t\\ns p e c s\\na r e\\na\\n1 6 : 9\\nf o r m a t\\nw i t h\\na\\nm i n i m u m\\ns i z e\\no f\\n  1 2 8 0\\nx\\n7 2 0\\np i x e l s .\\nR e s p o n d\\nt o\\nc o m m e n t s\\nY o u T u b e\\ni s\\na\\ns o c i a l\\nn e t w o r k ,\\nr i g h t ?\\nS o\\na c t\\nl i k e\\ni t .\\nR e s p o n d i n g\\nt o\\nv i e w e r\\nc o m m e n t s\\ns h o w s\\ny o u ’ r e\\nt h e r e\\nt o\\nb u i l d\\na\\nc o m m u n i t y ,\\nn o t\\nt o\\np u s h\\no u t\\ns e l f - p r o m o t i o n a l\\nc o n t e n t .\\nI t\\na l s o\\nb o o s t s\\ny o u r\\nv i d e o ’ s\\ns t a t u s\\nt o\\nt h e\\na l g o r i t h m\\nb e c a u s e\\nm o r e\\nc o m m e n t s\\n=\\nm o r e\\np o p u l a r - s e e m i n g\\nv i d e o .', metadata={'source': '/home/nitin2/Downloads/YouTubeMarketingGuide.pdf', 'page': 8}), Document(page_content='S t e p\\n6 :\\nU p l o a d\\na n d\\ns c h e d u l e\\ny o u r\\nv i d e o s\\nT h i s\\ni s\\ni t ,\\ny o u ’ r e\\nr e a d y\\nt o\\ng o .\\nY o u\\nc a n\\nu p l o a d\\ny o u r\\nﬁ n i s h e d\\nv i d e o\\nd i r e c t l y\\ni n t o\\nY o u T u b e\\nS t u d i o\\na n d\\ne i t h e r\\np u b l i s h\\ni t\\nr i g h t\\na w a y\\no r\\ns c h e d u l e\\ni t\\nf o r\\nl a t e r .\\nY o u\\nc a n\\na l s o\\ns c h e d u l e\\nv i d e o s\\nw i t h\\nH o o t s u i t e\\nt h e\\ns a m e\\nw a y\\ny o u\\ns c h e d u l e\\na l l\\ny o u r\\no t h e r\\ns o c i a l\\nc o n t e n t .\\nF o r\\ns c h e d u l i n g ,\\na\\nf e w\\nt h i n g s\\nt o\\nk e e p\\ni n\\nm i n d :\\n●\\nH o w\\no f t e n\\na r e\\ny o u\\ng o i n g\\nt o\\np o s t ?\\nP i c k\\na\\ns c h e d u l e\\n—\\nd a i l y ,\\nw e e k l y ,\\nb i w e e k l y ,\\nm o n t h l y ,\\ne t c\\n—\\na n d\\ns t i c k\\nt o\\ni t .\\n●\\nT h i n k\\na b o u t\\nt h e\\nb e s t\\nd a y\\nt o\\np o s t\\no n\\nf o r\\ny o u r\\na u d i e n c e .\\nW h e n\\na r e\\nt h e y\\nm o s t\\nl i k e l y\\nt o\\nw a t c h\\ny o u r\\nc o n t e n t ?\\nS t e p\\n7 :\\nO p t i m i z e\\ny o u r\\nc h a n n e l\\nt o\\na t t r a c t\\nf o l l o w e r s\\nW e ’ v e\\nt a l k e d\\na b o u t\\no p t i m i z i n g\\ni n d i v i d u a l\\nv i d e o s\\nb u t\\ny o u\\na l s o\\nn e e d\\nt o\\no p t i m i z e\\ny o u r\\ne n t i r e\\nc h a n n e l .\\nM a k e\\ns u r e\\ny o u r\\nc h a n n e l\\na r t\\na n d\\np r o ﬁ l e\\np h o t o\\nr e ﬂ e c t\\ny o u r\\nb r a n d i n g .', metadata={'source': '/home/nitin2/Downloads/YouTubeMarketingGuide.pdf', 'page': 9}), Document(page_content='I n\\na d d i t i o n\\nt o\\nv i s u a l\\nb r a n d i n g ,\\nY o u T u b e\\nh a s\\ns o m e\\nb u i l t - i n\\nf e a t u r e s\\nt h a t\\nm a k e\\ni t\\ne a s i e r\\nt o\\ng e t\\nm o r e\\ns u b s c r i b e r s\\n:\\n●\\nG r o u p\\ny o u r\\nv i d e o s\\ni n t o\\np l a y l i s t s\\no r g a n i z e d\\nb y\\nt o p i c .\\n●\\nC r e a t e\\na\\nc h a n n e l\\nt r a i l e r ,\\nw h i c h\\ni s\\nl i k e\\na\\nc o m m e r c i a l\\nr e p r e s e n t i n g\\nw h a t\\ny o u r\\nc h a n n e l\\ni s\\na b o u t .\\nY o u\\nk n o w\\nw h e n\\ny o u ’ r e\\nw a t c h i n g\\na\\nv i d e o\\na n d\\nt h e\\nc r e a t o r\\na l w a y s\\nt e l l s\\np e o p l e\\nt o\\n“ l i k e\\na n d\\ns u b s c r i b e ? ”\\nT h e r e ’ s\\na\\nr e a s o n :\\nI t\\nw o r k s .\\nI n\\ny o u r\\nv i d e o s ,\\nb e\\ns u r e\\nt o :\\n●\\nA s k\\np e o p l e\\nt o\\ns u b s c r i b e\\nt o\\ny o u r\\nc h a n n e l\\na n d\\nl i k e ,\\nc o m m e n t\\na n d / o r\\ns h a r e\\ny o u r\\nv i d e o .\\n●\\nH a v e\\na\\nc l e a r\\nc a l l\\nt o\\na c t i o n .\\n●\\nE n g a g e\\nw i t h\\ny o u r\\na u d i e n c e .\\n●\\nF o r\\ne x a m p l e ,\\nm e n t i o n\\nh o w\\na u d i e n c e\\nq u e s t i o n s\\ni n s p i r e d\\nt h e\\nc u r r e n t\\nv i d e o .\\n●\\nU s e\\na\\nc u s t o m\\ne n d\\ns c r e e n\\nt o\\nd i r e c t\\nv i e w e r s\\nt o\\no t h e r\\nv i d e o s\\no f\\ny o u r s\\nt o\\nk e e p\\nt h e m\\no n\\ny o u r\\nc h a n n e l\\nl o n g e r .\\n●\\nA d d\\nc l o s e d\\nc a p t i o n i n g .\\nY o u\\ns h o u l d\\np r i o r i t i z e\\na c c e s s i b i l i t y\\ni n\\na l l\\ny o u r\\nc o n t e n t ,\\na n d\\nc a p t i o n s\\ni n c l u d e\\nD e a f\\na n d / o r\\nh a r d - o f - h e a r i n g\\np e o p l e\\ni n\\ny o u r\\np o t e n t i a l\\na u d i e n c e .\\n●\\nU p l o a d i n g\\ny o u r\\no w n\\nc a p t i o n s\\nw i l l\\ne n s u r e\\na c c u r a c y\\na n d\\ni s\\ns o m e t h i n g\\ny o u\\nc a n\\ne a s i l y\\no u t s o u r c e .\\n●\\nY o u T u b e\\na l s o\\no f f e r s\\nf r e e ,\\na u t o m a t i c\\nc a p t i o n i n g\\nb u t\\ni t\\no f t e n\\ng e t s\\nw o r d s\\nw r o n g .\\n●\\nY o u\\nc a n\\ne v e n\\na d d\\nt r a n s l a t e d\\nv e r s i o n s\\no f\\ny o u r\\nc a p t i o n s\\nt o\\nb e t t e r\\ns e r v e\\na\\nm u l t i l i n g u a l\\na u d i e n c e\\no r\\ne a r n\\nm o r e\\ni n t e r n a t i o n a l\\nv i e w s .\\nS t e p\\n8 :\\nT r y\\nY o u T u b e\\na d v e r t i s i n g\\nN o t\\ng r o w i n g\\nf a s t\\ne n o u g h ?\\nT r y\\nY o u T u b e\\na d s\\n.', metadata={'source': '/home/nitin2/Downloads/YouTubeMarketingGuide.pdf', 'page': 10}), Document(page_content='M o s t\\nY o u T u b e\\na d s\\na r e\\nv i d e o s\\nb u t\\ny o u\\nc a n\\na l s o\\np l a c e\\nb a n n e r\\na d s ,\\ne i t h e r\\ni n\\nv i d e o s\\no r\\no n\\nt h e\\nw e b s i t e .\\nY o u\\nc a n\\na l s o\\nm a k e\\ny o u r\\nv i d e o\\na d s\\ne i t h e r\\ns k i p p a b l e\\na f t e r\\n5\\ns e c o n d s ,\\no r\\nu n s k i p p a b l e .\\nA s\\na\\nG o o g l e\\nc o m p a n y ,\\nY o u T u b e\\na d s\\no p e r a t e\\nt h r o u g h\\nt h e\\nG o o g l e\\nA d s\\np l a t f o r m .\\nR u n n i n g\\ns u c c e s s f u l\\na d s\\nr e q u i r e s\\na\\ns t r a t e g y\\no f\\ni t s\\no w n ,\\nw h i c h\\nw e\\nd e t a i l\\ni n\\no u r\\ng u i d e\\nt o\\nG o o g l e\\nA d s\\n.\\nB e s i d e s\\nt h e\\nc a m p a i g n\\ns t r a t e g y ,\\nb e f o r e\\ny o u\\nt r y\\no u t\\np a i d\\na d s ,\\nm a k e\\ns u r e\\ny o u\\nh a v e :\\n●\\nA\\nr o c k - s o l i d\\nu n d e r s t a n d i n g\\no f\\nw h o\\ny o u r\\na u d i e n c e\\ni s .\\n●\\nO p t i m i z e d\\ny o u r\\nY o u T u b e\\nc h a n n e l ’ s\\nv i s u a l\\nb r a n d i n g\\na n d\\nd e s c r i p t i o n .\\n●\\nU p l o a d e d\\na t\\nl e a s t\\n5 - 1 0\\nv i d e o s\\ns o\\ny o u r\\nn e w\\nv i s i t o r s\\nc a n\\ng e t\\na\\ns e n s e\\nf o r\\nw h a t\\ny o u ’ r e\\na l l\\na b o u t .\\nS t e p\\n9 :\\nT r y\\ni n ﬂ u e n c e r\\nm a r k e t i n g\\nY o u T u b e\\ni n ﬂ u e n c e r s\\n—\\nc a l l e d\\n“ c r e a t o r s ”\\n—\\na r e\\ng r o w i n g\\ne v e r y\\ny e a r .\\nY o u T u b e\\nr e p o r t e d\\na\\n5 0 %\\ny e a r\\no v e r\\ny e a r\\ng r o w t h\\ni n\\nt h e\\nn u m b e r\\no f\\nc r e a t o r s\\ne a r n i n g\\no v e r\\n$ 1 0 , 0 0 0\\np e r\\ny e a r ,\\na n d\\na\\n4 0 %\\ni n c r e a s e\\ni n\\nt h o s e\\ne a r n i n g\\no v e r\\n$ 1 0 0 , 0 0 0 .', metadata={'source': '/home/nitin2/Downloads/YouTubeMarketingGuide.pdf', 'page': 11}), Document(page_content='W h i l e\\nn e w\\ns o c i a l\\np l a t f o r m s\\np o p\\nu p\\na l l\\nt h e\\nt i m e\\na n d\\nb e c o m e\\nt h e\\n“ h o t ”\\np l a c e\\nt o\\na d v e r t i s e ,\\nl i k e\\nT i k T o k\\ni n\\n2 0 2 1 ,\\nY o u T u b e\\ni s\\na\\nh i g h - p e r f o r m i n g\\nc h a n n e l\\nf o r\\nb r a n d s .\\nA l m o s t\\nh a l f\\no f\\na l l\\nb r a n d s\\nw h o\\np l a n\\nt o\\nu s e\\ni n ﬂ u e n c e r\\nm a r k e t i n g\\nw i l l\\nu s e\\nY o u T u b e .\\nS o u r c e :\\ne M a r k e t e r\\nY o u T u b e\\ni s\\na\\nc l a s s i c\\ns p o n s o r s h i p\\nc h a n n e l\\nf o r\\na\\nr e a s o n :\\n7 0 %\\no f\\nv i e w e r s\\nh a v e\\nb o u g h t\\na\\np r o d u c t\\nt h e y\\ns a w\\nf e a t u r e d\\no n\\nY o u T u b e .\\nA s\\nw i t h\\na n y\\nf o r m\\no f\\np a i d\\na d v e r t i s i n g\\no r\\nm a r k e t i n g\\nc a m p a i g n ,\\ny o u\\nc a n ’ t\\nj u m p\\ns t r a i g h t\\ni n t o\\na n\\ni n ﬂ u e n c e r\\np a r t n e r s h i p\\nw i t h o u t\\ns o m e\\np r e p\\nw o r k :\\n●\\nK n o w\\ny o u r\\na u d i e n c e ,\\nk n o w\\ny o u r\\ng o a l s\\n…\\ny o u\\nk n o w\\nt h i s\\np a r t\\na l r e a d y .\\n●\\nP l a y\\nb y\\nt h e\\nr u l e s\\n—\\na n d\\nn o t\\nj u s t\\nY o u T u b e ’ s\\nr u l e s .\\nF o l l o w\\nF T C\\nr u l e s\\nf o r\\nd i s c l o s i n g\\np a i d\\no r\\ns p o n s o r e d\\nc o n t e n t .\\nE n s u r e\\ny o u r\\nc r e a t o r\\np a r t n e r\\nu s e s\\nt h e\\nh a s h t a g s\\n# a d\\no r\\n# s p o n s o r e d ,\\na s\\na\\nm i n i m u m .\\n●\\nC h o o s e\\na n\\ni n ﬂ u e n c e r\\nw h o\\na l i g n s\\nw i t h\\ny o u r\\nb r a n d\\na n d\\nw h o\\ny o u\\nt r u s t\\nt o\\np r o d u c e\\nh i g h - q u a l i t y\\nc o n t e n t .\\n●\\nA n a l y z e\\ny o u r\\nr e s u l t s\\na f t e r\\nt h e\\nc a m p a i g n\\na n d\\nl e a r n\\nw h a t\\nt o\\nd o\\nd i f f e r e n t l y\\nn e x t\\nt i m e .\\nN i k e ’ s\\nc a m p a i g n\\nw i t h\\n“ W h a t ’ s\\nI n s i d e ? ”\\ns h o w s\\nw h a t ’ s\\np o s s i b l e\\nw h e n\\ny o u\\nl e t\\ny o u r\\nc r e a t o r\\nt a k e\\nt h e\\nl e a d .\\nF a m o u s\\nf o r\\nc u t t i n g\\ne v e r y d a y\\ni t e m s\\ni n\\nh a l f\\nt o\\ns e e\\nw h a t ’ s\\ni n s i d e ,\\nt h e\\na p t l y - n a m e d\\nc h a n n e l\\nc r e a t e d\\na\\ns e r i e s\\no f\\nv i d e o s\\nf o r\\nN i k e\\nt o\\np r o m o t e\\na\\nn e w\\ns h o e .\\nT h e\\nm o s t\\np o p u l a r\\nv i d e o\\no f\\nt h e\\ns e r i e s\\ni s\\nw h e r e\\nt h e y\\nc u t\\nt h e\\nn e w\\ns h o e\\ni n\\nh a l f ,\\nw h i c h\\ne a r n e d\\no v e r\\n7 . 1\\nm i l l i o n\\nv i e w s .\\nS t e p\\n1 0 :\\nA n a l y z e\\na n d\\na d a p t\\nA s\\nw i t h\\na l l\\nm a r k e t i n g ,\\ny o u\\nn e e d\\nt o\\nt r a c k\\ny o u r\\nY o u T u b e\\na n a l y t i c s\\na t\\nl e a s t\\nm o n t h l y .\\nU s e\\nY o u T u b e ’ s\\nb u i l t - i n\\nr e p o r t s\\nt o\\ns e e\\nw h a t\\ny o u r', metadata={'source': '/home/nitin2/Downloads/YouTubeMarketingGuide.pdf', 'page': 12}), Document(page_content='a u d i e n c e\\ni s\\nw a t c h i n g ,\\nw h a t\\nt h e y\\nl i k e\\nt h e\\nm o s t ,\\nw h e r e\\ny o u r\\nt r a f ﬁ c\\ni s\\nc o m i n g\\nf r o m\\na n d\\nm o r e .\\nU s e\\na n a l y t i c s\\nt o\\nt r a c k\\ny o u r\\nc h a n n e l\\ng r o w t h ,\\nt o o .\\nW r i t e\\nd o w n\\ny o u r\\nn u m b e r s\\nm o n t h l y\\nf o r :\\n●\\nS u b s c r i b e r s\\n●\\nV i e w s\\n●\\nV i e w\\nd u r a t i o n\\n●\\nT o p\\nv i d e o s\\n●\\nW a t c h\\nt i m e\\n●\\nI m p r e s s i o n s\\n●\\nY o u r\\nc l i c k - t h r o u g h\\nr a t e\\n( C T R )\\nT h i s\\nb e c o m e s\\ny o u r\\nb e n c h m a r k\\nt o\\nm e a s u r e\\ny o u r\\nc h a n n e l\\nb y\\ne a c h\\nm o n t h .\\nN o t\\ng r o w i n g ?\\nT h e n\\ni t ’ s\\nt i m e\\nt o\\na d j u s t\\ny o u r\\nY o u T u b e\\nm a r k e t i n g\\ns t r a t e g y .\\n4\\nY o u T u b e\\nm a r k e t i n g\\nt o o l s\\nf o r\\nb u s i n e s s\\nB o o s t\\ny o u r\\nY o u T u b e\\nm a r k e t i n g\\nr e s u l t s\\nw i t h\\nt h e s e\\nu s e f u l\\nt o o l s :\\nM e n t i o n l y t i c s\\nf o r\\ns o c i a l\\nl i s t e n i n g\\nW i t h\\nM e n t i o n l y t i c s\\n,\\ny o u\\nc a n\\nm o n i t o r\\na l l\\ny o u r\\ns o c i a l\\np l a t f o r m s\\nf o r\\nm e n t i o n s\\no f\\ny o u r\\nc o m p a n y\\nn a m e\\no r\\ns p e c i ﬁ c\\nk e y w o r d s .\\nY o u\\nc a n\\nt r a c k\\np o s i t i v e\\na n d\\nn e g a t i v e\\nm e n t i o n s\\ns o\\ny o u\\nc a n\\ns w o o p\\ni n\\nw i t h\\nr e s p o n s i v e\\nr e p l i e s\\nt o\\nb o t h\\ns i t u a t i o n s ,\\na n d\\nt h e\\na p p\\na l s o\\ng i v e s\\ny o u\\na n\\no v e r a l l\\nS e n t i m e n t\\nA n a l y s i s\\nb a s e d\\no n\\nw h a t\\np e o p l e\\na r e\\ns a y i n g .\\nH o o t s u i t e\\nf o r\\ne v e r y t h i n g', metadata={'source': '/home/nitin2/Downloads/YouTubeMarketingGuide.pdf', 'page': 13}), Document(page_content='Y o u\\nc a n\\ns c h e d u l e\\nv i d e o s\\ni n\\nY o u T u b e\\nS t u d i o ,\\nb u t\\nw h y\\ns t e p\\no u t\\no f\\ny o u r\\n( w o r k ) ﬂ o w ?\\nH o o t s u i t e\\nc a n\\ns c h e d u l e\\na l l\\ny o u r\\ns o c i a l\\nm e d i a\\np o s t s ,\\ni n c l u d i n g\\nY o u T u b e\\nv i d e o s .\\nM o r e\\nt h a n\\na\\ns c h e d u l e r ,\\nH o o t s u i t e ’ s\\nd a s h b o a r d\\na l l o w s\\ny o u\\nt o\\nm o n i t o r\\nb r a n d\\na n d\\nk e y w o r d\\nm e n t i o n s\\na c r o s s\\na l l\\ny o u r\\nc h a n n e l s .\\nY o u\\nc a n\\nd o\\ne v e r y t h i n g\\ny o u\\nn e e d\\nt o\\nf o r\\ns o c i a l\\nm e d i a\\nd i r e c t l y\\nf r o m\\nH o o t s u i t e .\\nT h a t\\ni n c l u d e s\\np o s t\\nc r e a t i o n ,\\na d v e r t i s i n g ,\\na n a l y t i c s\\nr e p o r t i n g\\na n d\\ny o u\\nc a n\\ns a v e\\na\\nt o n\\no f\\nt i m e\\nb y\\nr e s p o n d i n g\\nt o\\nc o m m e n t s\\nd i r e c t l y\\nf r o m\\ny o u r\\nd a s h b o a r d .\\nY o u r\\ne n t i r e\\nt e a m\\nc a n\\nh a v e\\na c c e s s\\nt o\\nc o l l a b o r a t i o n\\nt o o l s\\nt h a t\\na l l o w\\ny o u\\nt o\\ne f f e c t i v e l y\\nm a n a g e\\ns o c i a l\\na c c o u n t s\\na t\\ns c a l e ,\\na l l\\ni n\\no n e\\np l a c e .\\nT h e\\no n l y\\nt h i n g\\nH o o t s u i t e\\nc a n ’ t\\nd o\\ni s\\nc a l l\\ny o u r\\nm o m\\no n\\nh e r\\nb i r t h d a y .\\nB u t\\ni t\\nc a n\\nb e\\nu s e d\\nt o\\ns e t\\nu p\\na\\nb i r t h d a y\\nT w e e t\\ni n\\na d v a n c e .\\nJ u s t\\ns a y i n ’ .\\nC h a n n e l v i e w\\nI n s i g h t s\\nf o r\\ni n - d e p t h\\na n a l y t i c s\\nY o u T u b e\\nh a s\\nb u i l t - i n\\na n a l y t i c s\\nb u t\\ni f\\ny o u ’ r e\\nl o o k i n g\\nf o r\\na\\nt r u l y\\ni n - d e p t h\\nl o o k\\na t\\ny o u r\\ns t a t s ,\\nC h a n n e l v i e w\\nI n s i g h t s\\ni s\\nf o r\\ny o u .\\nC h a n n e l v i e w\\nb r i n g s\\na\\nG o o g l e\\nA n a l y t i c s - i s h\\nv i b e\\nt o\\nY o u T u b e\\nw i t h\\ni t s\\nf a m i l i a r\\nl a y o u t\\nf o r\\nt r a c k i n g\\ne v e r y t h i n g\\nf r o m\\nd e m o g r a p h i c\\nd a t a\\nt o\\nt r a f ﬁ c\\ns o u r c e s\\na n d\\ns u b s c r i p t i o n s .\\nI t\\ns u p p o r t s\\nm u l t i p l e\\nY o u T u b e\\nc h a n n e l s\\na n d\\nc a n\\ne x p o r t\\nr e p o r t s\\na s\\nP D F s\\no r\\nC S V s\\nf o r\\nt h e\\nu l t i m a t e\\nE x c e l\\np a r t y\\ne x p e r i e n c e .', metadata={'source': '/home/nitin2/Downloads/YouTubeMarketingGuide.pdf', 'page': 14}), Document(page_content='T u b e R a n k e r\\nf o r\\nk e y w o r d\\nr e s e a r c h\\nT h i s\\nf r e e\\nw e b s i t e\\ni s\\na\\ng o o d\\ns t a r t i n g\\np o i n t\\nf o r\\nb a s i c\\nk e y w o r d\\nr e s e a r c h .\\nY o u\\ne n t e r\\na\\nk e y w o r d\\no n\\nT u b e R a n k e r\\na n d\\ni t\\nt e l l s\\ny o u\\nt h e\\nY o u T u b e\\ns e a r c h\\nv o l u m e\\nf o r\\nt h a t\\nk e y w o r d ,\\np l u s\\ni d e a s\\nf o r\\no t h e r\\nk e y w o r d s .', metadata={'source': '/home/nitin2/Downloads/YouTubeMarketingGuide.pdf', 'page': 15})]\n"
     ]
    },
    {
     "data": {
      "application/javascript": [
       "IPython.notebook.kernel.restart();"
      ],
      "text/plain": [
       "<IPython.core.display.Javascript object>"
      ]
     },
     "metadata": {},
     "output_type": "display_data"
    }
   ],
   "source": [
    "from IPython.display import display, Javascript\n",
    "\n",
    "#def restart_kernel():\n",
    " #   display(Javascript('IPython.notebook.kernel.restart();'))\n",
    "\n",
    "\n",
    "def restart_and_rerun_kernel():\n",
    "    display(Javascript('IPython.notebook.kernel.restart();'))\n",
    "    time.sleep(1)  # Wait for the kernel to restart\n",
    "    display(Javascript('IPython.notebook.execute_all_cells();'))\n",
    "\n",
    "\n",
    "# Call the function to restart the kernel\n",
    "#restart_kernel()\n",
    "FILE_PATH = input(\"Enter File Path..\")\n",
    "docs = load_document(FILE_PATH)\n",
    "#docs = loader.load_and_split()\n",
    "print(docs)\n",
    "\n",
    "# Restart and rerun the kernel\n",
    "restart_and_rerun_kernel()"
   ]
  },
  {
   "cell_type": "markdown",
   "id": "f4cd706c",
   "metadata": {},
   "source": [
    "## Summarizing with map_reduce\n",
    "This method involves an initial prompt on each chunk of data * ( for summarization tasks, this could be a summary of that chunk; for question-answering tasks, it could be an answer based solely on that chunk). Then a different prompt is run to combine all the initial outputs. This is implemented in the LangChain as the MapReduceDocumentsChain."
   ]
  },
  {
   "cell_type": "code",
   "execution_count": 1,
   "id": "b5b75cb7",
   "metadata": {},
   "outputs": [
    {
     "ename": "NameError",
     "evalue": "name 'load_summarize_chain' is not defined",
     "output_type": "error",
     "traceback": [
      "\u001b[0;31m---------------------------------------------------------------------------\u001b[0m",
      "\u001b[0;31mNameError\u001b[0m                                 Traceback (most recent call last)",
      "Input \u001b[0;32mIn [1]\u001b[0m, in \u001b[0;36m<cell line: 1>\u001b[0;34m()\u001b[0m\n\u001b[0;32m----> 1\u001b[0m chain \u001b[38;5;241m=\u001b[39m \u001b[43mload_summarize_chain\u001b[49m(llm\u001b[38;5;241m=\u001b[39mllm, chain_type\u001b[38;5;241m=\u001b[39m\u001b[38;5;124m\"\u001b[39m\u001b[38;5;124mmap_reduce\u001b[39m\u001b[38;5;124m\"\u001b[39m)\n\u001b[1;32m      2\u001b[0m summary \u001b[38;5;241m=\u001b[39m chain\u001b[38;5;241m.\u001b[39mrun(docs)   \n\u001b[1;32m      3\u001b[0m \u001b[38;5;28mprint\u001b[39m(summary)\n",
      "\u001b[0;31mNameError\u001b[0m: name 'load_summarize_chain' is not defined"
     ]
    }
   ],
   "source": [
    "chain = load_summarize_chain(llm=llm, chain_type=\"map_reduce\")\n",
    "summary = chain.run(docs)   \n",
    "print(summary)"
   ]
  },
  {
   "cell_type": "code",
   "execution_count": null,
   "id": "c3ae08ca",
   "metadata": {},
   "outputs": [],
   "source": [
    "#tracking each step with verbose true\n",
    "chain = load_summarize_chain(llm, \n",
    "                             chain_type=\"map_reduce\",\n",
    "                             verbose=True\n",
    "                             )\n",
    "output_summary = chain.run(docs)\n",
    "\n",
    "print(output_summary)"
   ]
  },
  {
   "cell_type": "code",
   "execution_count": 9,
   "id": "f0623a91",
   "metadata": {},
   "outputs": [
    {
     "data": {
      "text/plain": [
       "'Write a concise summary of the following:\\n\\n\\n\"{text}\"\\n\\n\\nCONCISE SUMMARY:'"
      ]
     },
     "execution_count": 9,
     "metadata": {},
     "output_type": "execute_result"
    }
   ],
   "source": [
    "# for summarizing each part\n",
    "# Default Prompt template using first\n",
    "chain.llm_chain.prompt.template"
   ]
  },
  {
   "cell_type": "code",
   "execution_count": 10,
   "id": "dcdf8955",
   "metadata": {},
   "outputs": [
    {
     "data": {
      "text/plain": [
       "'Write a concise summary of the following:\\n\\n\\n\"{text}\"\\n\\n\\nCONCISE SUMMARY:'"
      ]
     },
     "execution_count": 10,
     "metadata": {},
     "output_type": "execute_result"
    }
   ],
   "source": [
    "# for combining the parts\n",
    "chain.combine_document_chain.llm_chain.prompt.template"
   ]
  },
  {
   "cell_type": "code",
   "execution_count": 12,
   "id": "fcbf85b7",
   "metadata": {},
   "outputs": [],
   "source": [
    "# summary with Custom Prompts\n",
    "prompt_template = \"\"\"Write a concise summary of the following:\n",
    "\n",
    "{text}\n",
    "\n",
    "CONSCISE SUMMARY IN BULLET POINTS:\"\"\"\n",
    "\n",
    "BULLET_POINT_PROMPT = PromptTemplate(template=prompt_template, input_variables=[\"text\"])"
   ]
  },
  {
   "cell_type": "code",
   "execution_count": 13,
   "id": "28036ff4",
   "metadata": {
    "scrolled": true
   },
   "outputs": [
    {
     "name": "stdout",
     "output_type": "stream",
     "text": [
      "\n",
      "• YouTube is the most popular website in the world after Google, with over 2 billion users and 72% of American internet users regularly browsing the platform. \n",
      "• To market your business on YouTube, you need to create content that your target customers want, optimize your content for the YouTube algorithm, and set up a YouTube channel with a Google account.\n",
      "• Research your audience and competition, use social listening, and create a SWOT analysis.\n",
      "• Optimize your videos to get more views, create a compelling title, write a description, add tags, create custom thumbnails, and use end screens and cards.\n",
      "• Try YouTube advertising and influencer marketing, and track your progress with analytics.\n"
     ]
    }
   ],
   "source": [
    "chain = load_summarize_chain(llm,      \n",
    "                             chain_type=\"map_reduce\",\n",
    "                             map_prompt=BULLET_POINT_PROMPT, \n",
    "                             combine_prompt=BULLET_POINT_PROMPT)\n",
    "\n",
    "# chain.llm_chain.prompt= BULLET_POINT_PROMPT\n",
    "# chain.combine_document_chain.llm_chain.prompt= BULLET_POINT_PROMPT\n",
    "output_summary = chain.run(docs)\n",
    "print(output_summary)"
   ]
  },
  {
   "cell_type": "markdown",
   "id": "cb6a574c",
   "metadata": {},
   "source": [
    "### Now let's start with chat with pdf "
   ]
  },
  {
   "cell_type": "code",
   "execution_count": 14,
   "id": "004a382f",
   "metadata": {},
   "outputs": [],
   "source": [
    "from langchain.chains import ConversationalRetrievalChain\n",
    "from langchain.text_splitter import RecursiveCharacterTextSplitter\n",
    "from langchain.embeddings import OpenAIEmbeddings\n",
    "from langchain.vectorstores import FAISS"
   ]
  },
  {
   "cell_type": "markdown",
   "id": "6ced6dc1",
   "metadata": {},
   "source": [
    "#### Text Splitter\n",
    "This takes the text and splits it into chunks"
   ]
  },
  {
   "cell_type": "code",
   "execution_count": 15,
   "id": "afa04fac",
   "metadata": {},
   "outputs": [],
   "source": [
    "# split the documents into chunks\n",
    "\n",
    "text_splitter = RecursiveCharacterTextSplitter(chunk_size=1000, chunk_overlap=200)\n",
    "texts = text_splitter.split_documents(docs)"
   ]
  },
  {
   "cell_type": "code",
   "execution_count": 16,
   "id": "c7a0d961",
   "metadata": {},
   "outputs": [
    {
     "data": {
      "text/plain": [
       "41"
      ]
     },
     "execution_count": 16,
     "metadata": {},
     "output_type": "execute_result"
    }
   ],
   "source": [
    "len(texts)"
   ]
  },
  {
   "cell_type": "markdown",
   "id": "0892036d",
   "metadata": {},
   "source": [
    "### Making a Embeddings"
   ]
  },
  {
   "cell_type": "code",
   "execution_count": 17,
   "id": "65526a7e",
   "metadata": {},
   "outputs": [],
   "source": [
    "# select which embeddings we want to use\n",
    "embeddings = OpenAIEmbeddings()"
   ]
  },
  {
   "cell_type": "code",
   "execution_count": 18,
   "id": "0e8c30d2",
   "metadata": {},
   "outputs": [
    {
     "name": "stdout",
     "output_type": "stream",
     "text": [
      "loading the index from the disk\n"
     ]
    }
   ],
   "source": [
    "pdf_name = FILE_PATH.split('/')[-1]\n",
    "new_hash = hashlib.md5(''.join([t.page_content for t in docs]).encode()).hexdigest()\n",
    "if os.path.exists(\"faiss_index\"+pdf_name):\n",
    "    if os.path.exists(os.path.join(\"faiss_index\"+pdf_name,'hash.txt')):\n",
    "        with open(os.path.join(\"faiss_index\"+pdf_name,'hash.txt'),'r') as f:\n",
    "            stored_hash = f.read().strip()\n",
    "        if new_hash == stored_hash:\n",
    "            print(\"loading the index from the disk\")\n",
    "            db = FAISS.load_local(\"faiss_index\"+pdf_name,embeddings)\n",
    "        else:\n",
    "            print(\"Creating new Index..\")\n",
    "            db = FAISS.from_documents(docs, embeddings)\n",
    "            db.save_local(\"faiss_index\"+pdf_name) \n",
    "            print(\"Index Created\")\n",
    "else:\n",
    "    print(\"Creating new Index..\")\n",
    "    db = FAISS.from_documents(docs, embeddings)\n",
    "    db.save_local(\"faiss_index\"+pdf_name)\n",
    "    print(\"Index Created\")\n",
    "    with open(os.path.join(\"faiss_index\"+pdf_name,'hash.txt'),'w') as f:\n",
    "        f.write(new_hash)\n",
    "    print(\"Successfully Created Hash file\")\n",
    "            \n",
    "        \n",
    "    "
   ]
  },
  {
   "cell_type": "code",
   "execution_count": 19,
   "id": "a37723d4",
   "metadata": {},
   "outputs": [
    {
     "data": {
      "text/plain": [
       "<bound method OpenAIEmbeddings.embed_query of OpenAIEmbeddings(client=<class 'openai.api_resources.embedding.Embedding'>, model='text-embedding-ada-002', deployment='text-embedding-ada-002', openai_api_version=None, openai_api_base=None, openai_api_type=None, embedding_ctx_length=8191, openai_api_key=None, openai_organization=None, allowed_special=set(), disallowed_special='all', chunk_size=1000, max_retries=6, request_timeout=None, headers=None)>"
      ]
     },
     "execution_count": 19,
     "metadata": {},
     "output_type": "execute_result"
    }
   ],
   "source": [
    "db.embedding_function"
   ]
  },
  {
   "cell_type": "code",
   "execution_count": 20,
   "id": "f4afecc5",
   "metadata": {},
   "outputs": [],
   "source": [
    "query = \"what are Dietary Supplements\"\n",
    "embedding_vector = embeddings.embed_query(query)\n",
    "docs_and_scores = db.similarity_search_by_vector(embedding_vector)"
   ]
  },
  {
   "cell_type": "code",
   "execution_count": 22,
   "id": "b5fce0f7",
   "metadata": {},
   "outputs": [],
   "source": [
    "#memory\n",
    "from langchain.memory import ConversationBufferMemory\n",
    "memory = ConversationBufferMemory(memory_key=\"chat_history\", return_messages=True)\n",
    "\n",
    "# expose this index in a retriever interface\n",
    "retriever = db.as_retriever(search_type=\"similarity\", search_kwargs={\"k\":2})\n",
    "\n",
    "# create a chain to answer questions \n",
    "qa = ConversationalRetrievalChain.from_llm(OpenAI(temperature=0), retriever, memory=memory)"
   ]
  },
  {
   "cell_type": "code",
   "execution_count": 24,
   "id": "aafe699b",
   "metadata": {
    "scrolled": true
   },
   "outputs": [
    {
     "data": {
      "text/plain": [
       "' YouTube marketing is the practice of promoting a brand, product, or service on YouTube. It can involve a mix of tactics, including (but not limited to): creating organic promotional videos, working with influencers, and advertising on the platform.'"
      ]
     },
     "execution_count": 24,
     "metadata": {},
     "output_type": "execute_result"
    }
   ],
   "source": [
    "query = \"what is youtube marketing\"\n",
    "result = qa({\"question\": query})\n",
    "result['answer']"
   ]
  },
  {
   "cell_type": "code",
   "execution_count": 25,
   "id": "ca77d1f0",
   "metadata": {},
   "outputs": [
    {
     "data": {
      "text/plain": [
       "' YouTube marketing is the practice of promoting a brand, product, or service on YouTube. It can involve a mix of tactics, including (but not limited to): creating organic promotional videos, working with influencers, and advertising on the platform.'"
      ]
     },
     "execution_count": 25,
     "metadata": {},
     "output_type": "execute_result"
    }
   ],
   "source": [
    "query = \"what was the previous question?\"\n",
    "result = qa({\"question\": query})\n",
    "result['answer']"
   ]
  },
  {
   "cell_type": "code",
   "execution_count": 26,
   "id": "1defb70d",
   "metadata": {
    "scrolled": true
   },
   "outputs": [
    {
     "name": "stdout",
     "output_type": "stream",
     "text": [
      "chat_memory=ChatMessageHistory(messages=[HumanMessage(content='what is youtube marketing', additional_kwargs={}, example=False), AIMessage(content=' YouTube marketing is the practice of promoting a brand, product, or service on YouTube. It can involve a mix of tactics, including (but not limited to): creating organic promotional videos, working with influencers, and advertising on the platform.', additional_kwargs={}, example=False), HumanMessage(content='what was the previous question?', additional_kwargs={}, example=False), AIMessage(content=' YouTube marketing is the practice of promoting a brand, product, or service on YouTube. It can involve a mix of tactics, including (but not limited to): creating organic promotional videos, working with influencers, and advertising on the platform.', additional_kwargs={}, example=False)]) output_key=None input_key=None return_messages=True human_prefix='Human' ai_prefix='AI' memory_key='chat_history'\n"
     ]
    }
   ],
   "source": [
    "print(memory)"
   ]
  },
  {
   "cell_type": "code",
   "execution_count": null,
   "id": "7906d2c3",
   "metadata": {},
   "outputs": [],
   "source": []
  }
 ],
 "metadata": {
  "kernelspec": {
   "display_name": "Python 3 (ipykernel)",
   "language": "python",
   "name": "python3"
  },
  "language_info": {
   "codemirror_mode": {
    "name": "ipython",
    "version": 3
   },
   "file_extension": ".py",
   "mimetype": "text/x-python",
   "name": "python",
   "nbconvert_exporter": "python",
   "pygments_lexer": "ipython3",
   "version": "3.9.12"
  }
 },
 "nbformat": 4,
 "nbformat_minor": 5
}
